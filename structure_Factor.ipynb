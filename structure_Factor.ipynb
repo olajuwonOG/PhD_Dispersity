{
 "cells": [
  {
   "cell_type": "code",
   "execution_count": 4,
   "id": "f7ad6b27",
   "metadata": {},
   "outputs": [],
   "source": [
    "#This program is free software: you can redistribute it and/or modify\n",
    "#    it under the terms of the GNU General Public License as published by\n",
    "#    the Free Software Foundation, either version 3 of the License, or\n",
    "#    (at your option) any later version.\n",
    "#\n",
    "#    This program is distributed in the hope that it will be useful,\n",
    "#    but WITHOUT ANY WARRANTY; without even the implied warranty of\n",
    "#    MERCHANTABILITY or FITNESS FOR A PARTICULAR PURPOSE.  See the\n",
    "#    GNU General Public License for more details.\n",
    "\n",
    "### Purpose: Calculates isotropic structure factor ###\n",
    "### Syntax: python test_sk.py < equinvt.lammpstrj ###\n",
    "### Author: Janani Sampath ###\n",
    "### Date:  July 2015 ###\n",
    "### derived from Lisa Hall's code, derived Mark Stevens' code ###\n",
    "\n",
    "\n",
    "#In summary, kdotr represents the dot product of the wavevector k and the position vector r of an atom, \n",
    "#and it is used to calculate the phase factor that contributes to the structure factor calculations.\n",
    "\n",
    "import sys,string\n",
    "from numpy import *\n",
    "import numpy as np\n",
    "import math\n",
    "import matplotlib.pyplot as plt\n",
    "from scipy.optimize import curve_fit, minimize_scalar \n",
    "import fileinput"
   ]
  },
  {
   "cell_type": "code",
   "execution_count": 5,
   "id": "d7c18e3b",
   "metadata": {},
   "outputs": [],
   "source": [
    "# INPUT PARAMETERs\n",
    "nconf =   1 # number of configurations to average over\n",
    "iskip =     0 #number of configurations to skip before taking data\n",
    "numk  =    25\n",
    "numg1 =    numk+1"
   ]
  },
  {
   "cell_type": "code",
   "execution_count": 6,
   "id": "638f880e",
   "metadata": {},
   "outputs": [],
   "source": [
    "file  = 'S_k_1.csv'"
   ]
  },
  {
   "cell_type": "code",
   "execution_count": 7,
   "id": "14731176",
   "metadata": {},
   "outputs": [],
   "source": [
    "# Zero averages: \n",
    "\n",
    "nk = zeros(numg1,int)\n",
    "kcc = zeros(numg1,float)\n",
    "S11 = zeros(numg1,float32)  \n",
    "S44 = zeros(numg1,float32)\n",
    "SS11 = zeros(numg1,float32)  \n",
    "SS44 = zeros(numg1,float32)"
   ]
  },
  {
   "cell_type": "code",
   "execution_count": 8,
   "id": "3b7dffd3",
   "metadata": {},
   "outputs": [
    {
     "data": {
      "text/plain": [
       "array([0, 0, 0, 0, 0, 0, 0, 0, 0, 0, 0, 0, 0, 0, 0, 0, 0, 0, 0, 0, 0, 0,\n",
       "       0, 0, 0, 0])"
      ]
     },
     "execution_count": 8,
     "metadata": {},
     "output_type": "execute_result"
    }
   ],
   "source": [
    "nk"
   ]
  },
  {
   "cell_type": "code",
   "execution_count": 9,
   "id": "db9c5211",
   "metadata": {},
   "outputs": [],
   "source": [
    "#initialize\n",
    "natoms = 0\n",
    "num1 = 0\n",
    "num4 = 0\n",
    "sofk = []*numg1\n",
    "#sofk"
   ]
  },
  {
   "cell_type": "code",
   "execution_count": 10,
   "id": "122602f8",
   "metadata": {},
   "outputs": [
    {
     "data": {
      "text/plain": [
       "<fileinput.FileInput at 0x7feffad9ee50>"
      ]
     },
     "execution_count": 10,
     "metadata": {},
     "output_type": "execute_result"
    }
   ],
   "source": [
    "infiles = ['equilibration.dump'] \n",
    "IN = fileinput.input(infiles)\n",
    "IN"
   ]
  },
  {
   "cell_type": "code",
   "execution_count": 8,
   "id": "b7372119",
   "metadata": {},
   "outputs": [
    {
     "name": "stdout",
     "output_type": "stream",
     "text": [
      "what is line -1.9445555939999998e+01 1.9445555939999998e+01\n",
      "\n"
     ]
    }
   ],
   "source": [
    "for i in range(0,nconf): \n",
    "    IN.readline()\n",
    "    IN.readline()     \n",
    "    IN.readline()\n",
    "    line = IN.readline()      \n",
    "    fields = str.split(line)\n",
    "    natoms = int(fields[0]) \n",
    "    dim=natoms+1\n",
    "    xc=zeros(dim,float32)\n",
    "    yc=zeros(dim,float32)\n",
    "    zc=zeros(dim,float32)\n",
    "    cx=zeros(dim)\n",
    "    cy=zeros(dim)\n",
    "    cz=zeros(dim)\n",
    "    typea=[0]*dim\n",
    "    mol=[0]*dim\n",
    "    IN.readline()\n",
    "    line = IN.readline()   \n",
    "    print(\"what is line\", line)\n",
    "    [xm,xp] = map(float,line.split())\n",
    "    line = IN.readline()      \n",
    "    [ym,yp] = map(float,line.split())\n",
    "    line = IN.readline()      \n",
    "    [zm,zp] = map(float,line.split())\n",
    "    line = IN.readline()\n",
    "    xbox = xp - xm\n",
    "    dkx = 2*pi/xbox\n",
    "    Lx=numk*dkx\n",
    "    ybox = yp - ym\n",
    "    dky = 2*pi/ybox\n",
    "    Ly=numk*dky\n",
    "    zbox = zp - zm\n",
    "    dkz = 2*pi/zbox\n",
    "    Lz=numk*dkz\n",
    "    vol = xbox*ybox*zbox\n",
    "    xbox2 = xbox/2.0\n",
    "    for j in range(1,dim):\n",
    "        line = IN.readline()\n",
    "        [ii,molj,typej,q,x1,x2,x3,n1,n2,n3] = str.split(line)\n",
    "        k=int(ii)\n",
    "        typea[k] = int(typej)\n",
    "        if i==0:\n",
    "            if typea[k] == 1:\n",
    "                num1=num1+1\n",
    "            elif typea[k] == 4:\n",
    "                num4=num4+1\n",
    "        mol[k] = int(molj)\n",
    "        xc[k] = xbox*(float(x1)-0.5) \n",
    "        yc[k] = ybox*(float(x2)-0.5)\n",
    "        zc[k] = zbox*(float(x3)-0.5)\n",
    "        #print(\"z coordinate\",zc)\n",
    "        \n",
    "\n",
    "    for ll in range( 0,numg1):\n",
    "        for mm in range(0,numg1):\n",
    "            for nn in range(0,numg1):\n",
    "                s1c=s1s=s2c=s2s=s3c=s3s=s4c=s4s=0\n",
    "                kx=ll*dkx\n",
    "                ky=mm*dky\n",
    "                kz=nn*dkz\n",
    "                kk=sqrt(kx*kx+ky*ky+kz*kz)\n",
    "                jj = int(kk/dkx)\n",
    "                if jj < numg1 and jj > 0:\n",
    "                    kcc[jj] = kcc[jj]+kk\n",
    "                    nk[jj] = nk[jj]+1\n",
    "                    for ii in range(1,dim):\n",
    "                        kdotr=kx*xc[ii]+ky*yc[ii]+kz*zc[ii] #The dot product kdotr represents the projection of the wavevector k onto the position vector r. In the context of structure factor calculations, this dot product \n",
    "                                                            #is used to determine the phase factor associated with the contribution of the ii-th atom to the structure factor.\n",
    "                        #print(\"what is kdotr\", kdotr)\n",
    "                        if typea[ii] == 1:\n",
    "                            #s4c = s4c + cos(kdotr)\n",
    "                            #s4s = s4s + sin(kdotr)\n",
    "                            \"\"\"The phase factor, calculated as cos(kdotr) and sin(kdotr), is a measure of how the position of the atom affects \n",
    "                            the interference pattern produced by the wavevector k. This phase factor takes into account both the magnitude and \n",
    "                            direction of k and the position of the atom in space. The phase factor contributes to the overall value of the \n",
    "                            structure factor at a particular wavevector k and is summed over all atoms and configurations to compute the final structure factor values.\"\"\"\n",
    "                            s1c = s1c + cos(kdotr)     \n",
    "                            s1s = s1s + sin(kdotr)                                \n",
    "\n",
    "                    S11[jj]+=(s1c*s1c+s1s*s1s)\n",
    "                    S44[jj]+=(s4c*s4c+s4s*s4s)\n",
    "\n",
    "\n",
    "\n",
    "    for k in range(1,numg1):\n",
    "        kcc[k] = kcc[k]/nk[k]\n",
    "        SS11[k] = S11[k] / (nk[k] * (num1))\n",
    "        #SS44[k] = S44[k] / (nk[k] * (num4))\n",
    "\n",
    "\n",
    "    ## for ig in range(1,numg1):\n",
    "    ##     line = [kcc[ig],SS44[ig]]\n",
    "    ##     sofk.append(line)\n",
    "        \n",
    "    ## for i in range(len(sofk)):\n",
    "    ##     if sofk[i] == max(sofk, key = lambda x:x[1]): # finds the maximum S(k), and then selects the points just before and after this maximum\n",
    "    ##         x = [sofk[i-1][0],sofk[i][0],sofk[i+1][0]]\n",
    "    ##         y = [sofk[i-1][1],sofk[i][1],sofk[i+1][1]]\n",
    "\n",
    "    ##         def f(x, p1, p2, p3): # 2 deg polynomial fit\n",
    "    ##             return p1*x*x + p2*x + p3\n",
    "\n",
    "    ##         popt, pcov = curve_fit(f,x,y) \n",
    "\n",
    "    ##         fm  = lambda x: -f(x, *popt) # finds the peak for the fitted curve\n",
    "    ##         r = minimize_scalar(fm)\n",
    "    ##         maximum = r[\"x\"], f(r[\"x\"], *popt)\n",
    "\n",
    "    ##         print maximum\n",
    "\n",
    "\n",
    "            \n",
    "    OUT = open(file, 'w')\n",
    "    #OUT.write(\"k, S11, S44\\n\")\n",
    "    OUT.write(\"k, S11\\n\")\n",
    "    for ig in range(1,numg1):\n",
    "        #OUT.write(\"%8.4f, %8.4f, %8.4f\\n\" % (kcc[ig],SS11[ig],SS44[ig]))\n",
    "        OUT.write(\"%8.4f, %8.4f\\n\" % (kcc[ig],SS11[ig]))\n",
    "    OUT.close()"
   ]
  },
  {
   "cell_type": "code",
   "execution_count": null,
   "id": "28926241",
   "metadata": {},
   "outputs": [],
   "source": []
  }
 ],
 "metadata": {
  "kernelspec": {
   "display_name": "Python 3 (ipykernel)",
   "language": "python",
   "name": "python3"
  },
  "language_info": {
   "codemirror_mode": {
    "name": "ipython",
    "version": 3
   },
   "file_extension": ".py",
   "mimetype": "text/x-python",
   "name": "python",
   "nbconvert_exporter": "python",
   "pygments_lexer": "ipython3",
   "version": "3.9.12"
  }
 },
 "nbformat": 4,
 "nbformat_minor": 5
}
